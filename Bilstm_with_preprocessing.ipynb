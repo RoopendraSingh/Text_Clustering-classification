{
 "cells": [
  {
   "cell_type": "code",
   "execution_count": null,
   "metadata": {},
   "outputs": [],
   "source": [
    "import numpy as np\n",
    "import pandas as pd\n",
    "from sklearn.model_selection import train_test_split\n",
    "from keras.preprocessing.text import Tokenizer\n",
    "from keras.preprocessing.sequence import pad_sequences\n",
    "from keras.models import Sequential, load_model\n",
    "from keras.layers import Dense, Embedding, LSTM, Bidirectional,Flatten,Dropout\n",
    "from keras.utils import to_categorical\n",
    "from keras import optimizers\n",
    "import re\n",
    "from stop_words import get_stop_words\n",
    "from sklearn.metrics import accuracy_score,f1_score,confusion_matrix,classification_report,precision_score,recall_score\n",
    "from keras.wrappers.scikit_learn import KerasClassifier\n",
    "from sklearn.model_selection import GridSearchCV,RandomizedSearchCV\n",
    "from tensorflow.keras.callbacks import EarlyStopping\n",
    "from sklearn.utils import class_weight\n",
    "import calendar\n",
    "import datetime"
   ]
  },
  {
   "cell_type": "code",
   "execution_count": null,
   "metadata": {},
   "outputs": [],
   "source": [
    "data1=pd.read_csv(\"GL Datasets/upsample_train_data/Train_Up_data.csv\")\n",
    "data2=pd.read_csv(\"GL Datasets/Simple data/Test_data_GL.csv\")\n",
    "data3=pd.read_csv(\"GL Datasets/Simple data/Val_data_GL.csv\")\n",
    "X_train=data1.Text\n",
    "y_train=data1.Label\n",
    "X_test=data2.Text\n",
    "y_test=data2.Label\n",
    "X_val=data3.Text\n",
    "y_val=data3.Label\n",
    "print(X_train.shape,X_val.shape,X_test.shape)"
   ]
  },
  {
   "cell_type": "code",
   "execution_count": null,
   "metadata": {},
   "outputs": [],
   "source": [
    "def Preprocessing(x):\n",
    "    import datetime\n",
    "    # Month name from number\n",
    "    month_num = 1\n",
    "    month_abre = datetime.date(2015, month_num, 1).strftime('%b')\n",
    "    month_name = datetime.date(2015, month_num, 1).strftime('%B')\n",
    "\n",
    "    # Print list of all months from calendar\n",
    "    month_abr=[]\n",
    "    month=[]\n",
    "    for month_val in range(1, 13):\n",
    "        month_abr.append(calendar.month_abbr[month_val])\n",
    "        month.append(calendar.month_name[month_val])\n",
    "    month_abrev=[word.lower() for word in month_abr ] \n",
    "    months=[word.lower() for word in month ]\n",
    "    months.extend(month_abrev)\n",
    "\n",
    "    stop_words = (list(\n",
    "        set(get_stop_words('en'))\n",
    "        |set(months)\n",
    "    ))\n",
    "\n",
    "    REPLACE_NO_SPACE = re.compile(\"[.;:!\\'?,\\\"()\\[\\]]\")\n",
    "    REPLACE_WITH_SPACE = re.compile(\"(<br\\s*/><br\\s*/>)|(\\-)|(\\/)\")\n",
    "    def preprocess_reviews(reviews):\n",
    "        reviews= [line.lower() for line in reviews]\n",
    "        reviews = [str (item) for item in reviews]\n",
    "        reviews = [REPLACE_NO_SPACE.sub(\"\", line.lower()) for line in reviews]\n",
    "        reviews = [REPLACE_WITH_SPACE.sub(\" \", line) for line in reviews]\n",
    "        return reviews\n",
    "    reviews_train_clean = preprocess_reviews(x)\n",
    "    \n",
    "    def get_lemmatized_text(corpus):\n",
    "        from nltk.stem import WordNetLemmatizer\n",
    "        lemmatizer = WordNetLemmatizer()\n",
    "        return [' '.join([lemmatizer.lemmatize(word,'v') for word in review.split()]) for review in corpus]\n",
    "    reviews_train_clean = get_lemmatized_text(reviews_train_clean)  \n",
    "        \n",
    "    only_alpha=[]\n",
    "    for i in reviews_train_clean:\n",
    "        s=re.sub(\"[^A-Za-z]\",\" \",str(i))\n",
    "        s=re.sub(\"  +\",\" \",s)\n",
    "        s = re.sub(r\"\\bprop\\b\",\"property\",s)\n",
    "        s = re.sub(r\"\\bcvg\\b\",\"coverage\",s)\n",
    "        s = re.sub(r'\\d',' ', s)\n",
    "        only_alpha.append(s)\n",
    "        \n",
    "    def remove_stop_words(corpus):\n",
    "        removed_stop_words = []\n",
    "        for review in corpus:\n",
    "            removed_stop_words.append(\n",
    "                ' '.join([word for word in review.split()\n",
    "                          if word not in stop_words])\n",
    "            )\n",
    "        return removed_stop_words\n",
    "    after_sw = remove_stop_words(only_alpha)\n",
    "    return(after_sw)"
   ]
  },
  {
   "cell_type": "code",
   "execution_count": null,
   "metadata": {},
   "outputs": [],
   "source": [
    "X_train=pd.DataFrame(Preprocessing(X_train),columns=['Text'])\n",
    "X_train=X_train.Text\n",
    "X_val=pd.DataFrame(Preprocessing(X_val),columns=['Text'])\n",
    "X_val=X_val.Text\n",
    "X_test=pd.DataFrame(Preprocessing(X_test),columns=[\"Text\"])\n",
    "X_test=X_test.Text\n",
    "print(len(y_train),len(y_val),len(y_test))"
   ]
  },
  {
   "cell_type": "code",
   "execution_count": null,
   "metadata": {},
   "outputs": [],
   "source": [
    "max_fatures = 10000\n",
    "tokenizer = Tokenizer(num_words=max_fatures, split=' ')\n",
    "tokenizer.fit_on_texts(X_train) # training with whole data\n",
    "\n",
    "X_train1 = tokenizer.texts_to_sequences(X_train)\n",
    "X_train = pad_sequences(X_train1,maxlen=150)\n",
    "print('x_train shape:',X_train.shape)\n",
    "y_train=np.array(y_train)\n",
    "\n",
    "X_val1 = tokenizer.texts_to_sequences(X_val)\n",
    "X_val = pad_sequences(X_val1,maxlen=150)\n",
    "print('X_val shape:',X_val.shape)\n",
    "y_val=np.array(y_val)\n",
    "\n",
    "\n",
    "X_test = tokenizer.texts_to_sequences(X_test.values)\n",
    "X_test = pad_sequences(X_test,maxlen=150)\n",
    "y_test=np.array(y_test)\n",
    "print(\"x_test shape\", X_test.shape)"
   ]
  },
  {
   "cell_type": "code",
   "execution_count": null,
   "metadata": {},
   "outputs": [],
   "source": [
    "import tensorflow as tf\n",
    "import random as rn\n",
    "import os\n",
    "import tensorflow.compat.v1 as tf\n",
    "\n",
    "os.environ['PYTHONHASHSEED'] = '0'\n",
    "\n",
    "# Setting the seed for numpy-generated random numbers\n",
    "np.random.seed(37)\n",
    "\n",
    "# Setting the seed for python random numbers\n",
    "rn.seed(1254)\n",
    "\n",
    "# Setting the graph-level random seed.\n",
    "tf.set_random_seed(89)\n",
    "\n",
    "embed_dim = 128\n",
    "lstm_out = 192\n",
    "d_r=0.4\n",
    "model = Sequential()\n",
    "model.add(Embedding(max_fatures, embed_dim,input_length = X_train.shape[1]))\n",
    "model.add(Dropout(d_r))\n",
    "model.add(Bidirectional(LSTM(lstm_out,return_sequences=True)))\n",
    "model.add(Dropout(d_r))\n",
    "model.add(Bidirectional(LSTM(124)))\n",
    "model.add(Dense(11,activation='softmax'))\n",
    "model.compile(loss = 'sparse_categorical_crossentropy', optimizer=optimizers.Adam(lr=0.001),metrics = ['acc'])"
   ]
  },
  {
   "cell_type": "code",
   "execution_count": null,
   "metadata": {
    "scrolled": true
   },
   "outputs": [],
   "source": [
    "batch_size = 64\n",
    "from tensorflow.keras.callbacks import EarlyStopping\n",
    "es = EarlyStopping(monitor='val_loss', mode='min', verbose=1, patience=5)\n",
    "from sklearn.utils import class_weight\n",
    "class_weights = class_weight.compute_class_weight('balanced', np.unique(y_train), y_train)\n",
    "model.fit(X_train, y_train,epochs = 30,batch_size=batch_size,shuffle=True,validation_data=[X_val,y_val],callbacks=[es],class_weight=class_weights,verbose = 1)\n",
    "#model.fit(X_train, y_train, epochs = 15, batch_size=batch_size, shuffle=True, validation_data=[X_val,y_val],callbacks=[es],verbose = 1)"
   ]
  },
  {
   "cell_type": "code",
   "execution_count": null,
   "metadata": {},
   "outputs": [],
   "source": [
    "Y_pred = model.predict_classes(X_test)\n",
    "print(accuracy_score(Y_pred,y_test))\n",
    "print(f1_score(Y_pred,y_test,average='macro'))\n",
    "print(precision_score(Y_pred,y_test,average='macro'))\n",
    "print(recall_score(Y_pred,y_test,average='macro'))"
   ]
  },
  {
   "cell_type": "code",
   "execution_count": null,
   "metadata": {},
   "outputs": [],
   "source": [
    "pd.DataFrame(recall_score(Y_pred,y_test,average=None)).T\n"
   ]
  },
  {
   "cell_type": "code",
   "execution_count": null,
   "metadata": {},
   "outputs": [],
   "source": [
    "print(f1_score(Y_pred,y_test,average=None))\n",
    "print(precision_score(Y_pred,y_test,average=None))\n",
    "print(recall_score(Y_pred,y_test,average=None))"
   ]
  },
  {
   "cell_type": "markdown",
   "metadata": {},
   "source": [
    "###### Hyperparameter tuning (optional)  ##########"
   ]
  },
  {
   "cell_type": "code",
   "execution_count": null,
   "metadata": {},
   "outputs": [],
   "source": [
    "from sklearn.model_selection import GridSearchCV\n",
    "from keras.wrappers.scikit_learn import KerasClassifier\n",
    "def create_model(embed_dim=128,lstm_out=192,lstm_last=124,d_r=0.4):\n",
    "    model = Sequential()\n",
    "    model.add(Embedding(max_fatures, embed_dim,input_length = X_train.shape[1]))\n",
    "    model.add(Dropout(d_r))\n",
    "    model.add(Bidirectional(LSTM(lstm_out,return_sequences=True)))\n",
    "    model.add(Dropout(d_r))\n",
    "    model.add(Bidirectional(LSTM(lstm_last)))\n",
    "    model.add(Dense(11,activation='softmax'))\n",
    "    model.compile(loss = 'sparse_categorical_crossentropy', optimizer=optimizers.Adam(lr=0.001),metrics = ['acc'])\n",
    "    return model\n",
    "model1 = KerasClassifier(build_fn=create_model,epochs=30, batch_size=64,verbose=1)"
   ]
  },
  {
   "cell_type": "code",
   "execution_count": null,
   "metadata": {},
   "outputs": [],
   "source": [
    "embed_dim=[32,64,128]\n",
    "lstm_out=[64,124,196]\n",
    "lstm_last=[64,124,196]\n",
    "d_r=[0.2,0.3,0.4]\n",
    "param_grid = dict(embed_dim=embed_dim,lstm_out=lstm_out,lstm_last=lstm_last,d_r=d_r)\n",
    "grid = GridSearchCV(estimator=model1, param_grid=param_grid, n_jobs=1, cv=3)\n",
    "grid_result = grid.fit(X_train, y_train)"
   ]
  },
  {
   "cell_type": "code",
   "execution_count": null,
   "metadata": {},
   "outputs": [],
   "source": [
    "print(\"Best: %f using %s\" % (grid_result.best_score_, grid_result.best_params_))\n",
    "means = grid_result.cv_results_['mean_test_score']\n",
    "stds = grid_result.cv_results_['std_test_score']\n",
    "params = grid_result.cv_results_['params']\n",
    "for mean, stdev, param in zip(means, stds, params):\n",
    "    print(\"%f (%f) with: %r\" % (mean, stdev, param))"
   ]
  },
  {
   "cell_type": "markdown",
   "metadata": {},
   "source": [
    "###### K fold cross validation  tuning (optional) #########"
   ]
  },
  {
   "cell_type": "code",
   "execution_count": null,
   "metadata": {},
   "outputs": [],
   "source": [
    "train_data=pd.concat([data1,data2],axis=0)\n",
    "train_data.reset_index(inplace=True,drop=True)\n",
    "X=train_data.Text\n",
    "Y=train_data.Label\n",
    "from sklearn.model_selection import StratifiedKFold\n",
    "kfold = StratifiedKFold(n_splits=5, shuffle=True, random_state=42)"
   ]
  },
  {
   "cell_type": "code",
   "execution_count": null,
   "metadata": {},
   "outputs": [],
   "source": [
    "acc=[]\n",
    "f1=[]\n",
    "precision=[]\n",
    "recall=[]\n",
    "for train, test in kfold.split(X,Y):\n",
    "    max_fatures = 10000\n",
    "    tokenizer = Tokenizer(num_words=max_fatures, split=' ')\n",
    "    tokenizer.fit_on_texts(X[train]) # training with whole data\n",
    "\n",
    "    X_train1 = tokenizer.texts_to_sequences(X[train])\n",
    "    X_train = pad_sequences(X_train1,maxlen=50)\n",
    "    print('x_train shape:',X_train.shape)\n",
    "    y_train=np.array(Y[train])\n",
    "\n",
    "    X_val1 = tokenizer.texts_to_sequences(X[test])\n",
    "    X_val = pad_sequences(X_val1,maxlen=50)\n",
    "    print('X_val shape:',X_val.shape)\n",
    "    y_val=np.array(Y[test])\n",
    "    \n",
    "    embed_dim = 128\n",
    "    lstm_out = 192\n",
    "    d_r=0.4\n",
    "    model = Sequential()\n",
    "    model.add(Embedding(max_fatures, embed_dim,input_length = X_train.shape[1]))\n",
    "    model.add(Dropout(d_r))\n",
    "    model.add(Bidirectional(LSTM(lstm_out,return_sequences=True)))\n",
    "    model.add(Dropout(d_r))\n",
    "    model.add(Bidirectional(LSTM(124)))\n",
    "    model.add(Dense(11,activation='softmax'))\n",
    "    model.compile(loss = 'sparse_categorical_crossentropy', optimizer=optimizers.Adam(lr=0.001),metrics = ['acc'])\n",
    "    batch_size = 64\n",
    "    es = EarlyStopping(monitor='val_loss', mode='min', verbose=1, patience=3)\n",
    "    class_weights = class_weight.compute_class_weight('balanced', np.unique(y_train), y_train)\n",
    "    model.fit(X_train, y_train, epochs = 15, batch_size=batch_size, shuffle=True, validation_data=[X_val,y_val],callbacks=[es],class_weight=class_weights,verbose = 1)\n",
    "    #model.fit(X_train, y_train, epochs = 15, batch_size=batch_size, shuffle=True, validation_data=[X_val,y_val],callbacks=[es],verbose = 1)\n",
    "    Y_pred = model.predict_classes(X_test)\n",
    "    acc.append(accuracy_score(Y_pred,y_test))\n",
    "    f1.append(f1_score(Y_pred,y_test,average='macro'))\n",
    "    precision.append(precision_score(Y_pred,y_test,average='macro'))\n",
    "    recall.append(recall_score(Y_pred,y_test,average='macro'))"
   ]
  }
 ],
 "metadata": {
  "environment": {
   "name": "tf2-2-3-gpu.2-3.m55",
   "type": "gcloud",
   "uri": "gcr.io/deeplearning-platform-release/tf2-2-3-gpu.2-3:m55"
  },
  "kernelspec": {
   "display_name": "Python 3",
   "language": "python",
   "name": "python3"
  },
  "language_info": {
   "codemirror_mode": {
    "name": "ipython",
    "version": 3
   },
   "file_extension": ".py",
   "mimetype": "text/x-python",
   "name": "python",
   "nbconvert_exporter": "python",
   "pygments_lexer": "ipython3",
   "version": "3.7.8"
  }
 },
 "nbformat": 4,
 "nbformat_minor": 4
}
