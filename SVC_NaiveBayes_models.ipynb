{
 "cells": [
  {
   "cell_type": "code",
   "execution_count": 1,
   "metadata": {},
   "outputs": [
    {
     "name": "stderr",
     "output_type": "stream",
     "text": [
      "Using TensorFlow backend.\n"
     ]
    }
   ],
   "source": [
    "import numpy as np\n",
    "import pandas as pd\n",
    "from sklearn.model_selection import train_test_split\n",
    "import re\n",
    "from stop_words import get_stop_words\n",
    "import calendar\n",
    "import datetime\n",
    "from sklearn.model_selection import RandomizedSearchCV\n",
    "from sklearn.feature_extraction.text import CountVectorizer,TfidfVectorizer\n",
    "from sklearn.linear_model import LogisticRegression\n",
    "from sklearn.svm import LinearSVC\n",
    "from sklearn.naive_bayes import MultinomialNB \n",
    "from sklearn.metrics import accuracy_score,confusion_matrix,f1_score\n",
    "from sklearn import preprocessing\n",
    "from sklearn.utils import class_weight\n",
    "import eli5\n",
    "from nltk.tokenize import word_tokenize\n",
    "from nltk.stem import WordNetLemmatizer\n",
    "from nltk import pos_tag\n",
    "from nltk.corpus import stopwords\n",
    "from nltk.stem import WordNetLemmatizer\n",
    "from sklearn.preprocessing import LabelEncoder\n",
    "from collections import defaultdict\n",
    "from nltk.corpus import wordnet as wn\n",
    "from sklearn.feature_extraction.text import TfidfVectorizer\n",
    "from sklearn import model_selection, naive_bayes, svm\n",
    "from sklearn.metrics import accuracy_score,f1_score,recall_score,precision_score"
   ]
  },
  {
   "cell_type": "code",
   "execution_count": 2,
   "metadata": {},
   "outputs": [
    {
     "name": "stdout",
     "output_type": "stream",
     "text": [
      "(1301, 2)\n"
     ]
    }
   ],
   "source": [
    "train_data=pd.read_csv(\"Property Datasets/Upsampled_train_data/Train_Up_data.csv\")\n",
    "test_data1=pd.read_csv(\"Property Datasets/Simple_Data/Test_data_property.csv\")\n",
    "val_data=pd.read_csv(\"Property Datasets/Simple_Data/Val_data_property.csv\")\n",
    "test_data=pd.concat([test_data1,val_data],axis=0)\n",
    "test_data.reset_index(drop=True,inplace=True)\n",
    "print(test_data.shape)"
   ]
  },
  {
   "cell_type": "code",
   "execution_count": 3,
   "metadata": {},
   "outputs": [
    {
     "data": {
      "text/plain": [
       "<AxesSubplot:>"
      ]
     },
     "execution_count": 3,
     "metadata": {},
     "output_type": "execute_result"
    },
    {
     "data": {
      "image/png": "[encoded data removed]",
      "text/plain": [
       "<Figure size 432x288 with 1 Axes>"
      ]
     },
     "metadata": {
      "needs_background": "light"
     },
     "output_type": "display_data"
    }
   ],
   "source": [
    "train_data[\"Label\"].value_counts().plot(kind = 'bar')"
   ]
  },
  {
   "cell_type": "code",
   "execution_count": 4,
   "metadata": {},
   "outputs": [],
   "source": [
    "x=train_data.Text\n",
    "y=train_data['Label']\n",
    "x1=test_data.Text\n",
    "y1=test_data['Label']"
   ]
  },
  {
   "cell_type": "markdown",
   "metadata": {},
   "source": [
    "###### Preprocessing Data ######"
   ]
  },
  {
   "cell_type": "code",
   "execution_count": 5,
   "metadata": {},
   "outputs": [],
   "source": [
    "def Preprocessing(x):\n",
    "    import datetime\n",
    "    # Month name from number\n",
    "    month_num = 1\n",
    "    month_abre = datetime.date(2015, month_num, 1).strftime('%b')\n",
    "    month_name = datetime.date(2015, month_num, 1).strftime('%B')\n",
    "\n",
    "    # Print list of all months from calendar\n",
    "    month_abr=[]\n",
    "    month=[]\n",
    "    for month_val in range(1, 13):\n",
    "        month_abr.append(calendar.month_abbr[month_val])\n",
    "        month.append(calendar.month_name[month_val])\n",
    "    month_abrev=[word.lower() for word in month_abr ] \n",
    "    months=[word.lower() for word in month ]\n",
    "    months.extend(month_abrev)\n",
    "\n",
    "    stop_words = (list(\n",
    "        set(get_stop_words('en'))\n",
    "        |set(months)\n",
    "    ))\n",
    "    stop_words.extend([\"claim\",'id','dopa',\"arise\",\"claimant\",\"allegations\",\"auto\",\"ploicy\",\"care\",\"work\",\"potential\",\n",
    "                        \"service\",\"allegdly\",\"allege\",\"clmt\",\"insd\",'insure','incident','covid-19','covid','complaint',\n",
    "                      'ovid','state','district','plaintiff','instal','due','demand','locate',\n",
    "                        'cause','client','customer','date','understand','app'])\n",
    "\n",
    "\n",
    "    REPLACE_NO_SPACE = re.compile(\"[.;:!\\'?,\\\"()\\[\\]]\")\n",
    "    REPLACE_WITH_SPACE = re.compile(\"(<br\\s*/><br\\s*/>)|(\\-)|(\\/)\")\n",
    "    def preprocess_reviews(reviews):\n",
    "        reviews= [line.lower() for line in reviews]\n",
    "        reviews = [str (item) for item in reviews]\n",
    "        reviews = [REPLACE_NO_SPACE.sub(\"\", line.lower()) for line in reviews]\n",
    "        reviews = [REPLACE_WITH_SPACE.sub(\" \", line) for line in reviews]\n",
    "        return reviews\n",
    "    reviews_train_clean = preprocess_reviews(x)\n",
    "    \n",
    "    def get_lemmatized_text(corpus):\n",
    "        from nltk.stem import WordNetLemmatizer\n",
    "        lemmatizer = WordNetLemmatizer()\n",
    "        return [' '.join([lemmatizer.lemmatize(word,'v') for word in review.split()]) for review in corpus]\n",
    "    reviews_train_clean = get_lemmatized_text(reviews_train_clean)  \n",
    "        \n",
    "    only_alpha=[]\n",
    "    for i in reviews_train_clean:\n",
    "        s=re.sub(\"[^A-Za-z]\",\" \",str(i))\n",
    "        s=re.sub(\"  +\",\" \",s)\n",
    "        s = re.sub(r\"\\bprop\\b\",\"property\",s)\n",
    "        s = re.sub(r\"\\bcvg\\b\",\"coverage\",s)\n",
    "        s = re.sub(r'\\d',' ', s)\n",
    "        only_alpha.append(s)\n",
    "        \n",
    "    def remove_stop_words(corpus):\n",
    "        removed_stop_words = []\n",
    "        for review in corpus:\n",
    "            removed_stop_words.append(\n",
    "                ' '.join([word for word in review.split()\n",
    "                          if word not in stop_words])\n",
    "            )\n",
    "        return removed_stop_words\n",
    "    after_sw = remove_stop_words(only_alpha)\n",
    "    return(after_sw)"
   ]
  },
  {
   "cell_type": "code",
   "execution_count": 6,
   "metadata": {},
   "outputs": [
    {
     "name": "stdout",
     "output_type": "stream",
     "text": [
      "1301 15202\n",
      "1301 15202\n"
     ]
    }
   ],
   "source": [
    "x_train=Preprocessing(x)\n",
    "x_test=Preprocessing(x1)\n",
    "print(len(x_test),len(x_train))\n",
    "y_train=np.array(y)\n",
    "y_test=np.array(y1)\n",
    "print(len(y_test),len(y_train))"
   ]
  },
  {
   "cell_type": "code",
   "execution_count": 7,
   "metadata": {},
   "outputs": [],
   "source": [
    "def count_vec(a,b):\n",
    "    count_vectorizer = CountVectorizer(stop_words='english')\n",
    "    count_vectorizer.fit(x_train)\n",
    "    a = count_vectorizer.transform(a).toarray()\n",
    "    b = count_vectorizer.transform(b).toarray()\n",
    "    return a,b\n",
    "\n",
    "def ngram_count_vec(a,b):\n",
    "    count_vectorizer = CountVectorizer(stop_words='english', ngram_range=(1, 2))\n",
    "    count_vectorizer.fit(x_train)\n",
    "    a = count_vectorizer.transform(a).toarray()\n",
    "    b = count_vectorizer.transform(b).toarray()\n",
    "    return a,b\n",
    "\n",
    "def tfidf_vec(a,b):\n",
    "    tfidf_vectorizer = TfidfVectorizer(stop_words='english')\n",
    "    tfidf_vectorizer.fit(x_train)\n",
    "    a = tfidf_vectorizer.transform(a).toarray()\n",
    "    b = tfidf_vectorizer.transform(b).toarray()\n",
    "    return a,b\n",
    "\n",
    "def ngram_tfidf_vec(a,b):\n",
    "    tfidf_vectorizer = TfidfVectorizer(stop_words='english', ngram_range=(1, 2))\n",
    "    tfidf_vectorizer.fit(x_train)\n",
    "    a = tfidf_vectorizer.transform(a).toarray()\n",
    "    b = tfidf_vectorizer.transform(b).toarray()\n",
    "    return a,b"
   ]
  },
  {
   "cell_type": "markdown",
   "metadata": {},
   "source": [
    "###### Naive_Bayes ########"
   ]
  },
  {
   "cell_type": "code",
   "execution_count": 8,
   "metadata": {},
   "outputs": [
    {
     "name": "stdout",
     "output_type": "stream",
     "text": [
      "NaiveBayes-tfidf_vec 78.55495772482706\n",
      "NaiveBayes-ngram_tfidf_vec 78.63182167563413\n",
      "NaiveBayes-count_vec 78.09377401998464\n",
      "NaiveBayes-ngram_count_vec 76.94081475787856\n"
     ]
    }
   ],
   "source": [
    "V = [tfidf_vec , ngram_tfidf_vec, count_vec , ngram_count_vec]\n",
    "B = ['tfidf_vec' , 'ngram_tfidf_vec', 'count_vec' , 'ngram_count_vec']\n",
    "\n",
    "num_of_funcs = len(V)\n",
    "vector = []\n",
    "accuracy = []\n",
    "f1=[]\n",
    "recall=[]\n",
    "precision=[]\n",
    "f1_all=[]\n",
    "recall_all=[]\n",
    "precision_all=[]\n",
    "for i,j in zip(range(num_of_funcs),B):\n",
    "    xtrain_vec, xtest_vec = V[i % num_of_funcs](x_train, x_test)\n",
    "    model = MultinomialNB().fit(xtrain_vec, y_train)\n",
    "    y_pred = model.predict(xtest_vec)\n",
    "    acc_score=accuracy_score(y_test,y_pred)\n",
    "    f1.append(f1_score(y_test,y_pred,average='macro'))\n",
    "    recall.append(recall_score(y_test,y_pred,average='macro'))\n",
    "    precision.append(precision_score(y_test,y_pred,average='macro'))\n",
    "    accuracy.append(acc_score)\n",
    "    f1_all.append(f1_score(y_test,y_pred,average=None))\n",
    "    recall_all.append(recall_score(y_test,y_pred,average=None))\n",
    "    precision_all.append(precision_score(y_test,y_pred,average=None))\n",
    "    vector.append(j)\n",
    "    print(\"NaiveBayes-\"+j,acc_score*100)\n"
   ]
  },
  {
   "cell_type": "code",
   "execution_count": 9,
   "metadata": {},
   "outputs": [
    {
     "data": {
      "text/html": [
       "<div>\n",
       "<style scoped>\n",
       "    .dataframe tbody tr th:only-of-type {\n",
       "        vertical-align: middle;\n",
       "    }\n",
       "\n",
       "    .dataframe tbody tr th {\n",
       "        vertical-align: top;\n",
       "    }\n",
       "\n",
       "    .dataframe thead th {\n",
       "        text-align: right;\n",
       "    }\n",
       "</style>\n",
       "<table border=\"1\" class=\"dataframe\">\n",
       "  <thead>\n",
       "    <tr style=\"text-align: right;\">\n",
       "      <th></th>\n",
       "      <th>Naive_Bayes</th>\n",
       "      <th>Accuracy</th>\n",
       "      <th>F1-score</th>\n",
       "      <th>Precision</th>\n",
       "      <th>Recall</th>\n",
       "    </tr>\n",
       "  </thead>\n",
       "  <tbody>\n",
       "    <tr>\n",
       "      <th>0</th>\n",
       "      <td>tfidf_vec</td>\n",
       "      <td>0.785550</td>\n",
       "      <td>0.786318</td>\n",
       "      <td>0.780938</td>\n",
       "      <td>0.769408</td>\n",
       "    </tr>\n",
       "    <tr>\n",
       "      <th>1</th>\n",
       "      <td>ngram_tfidf_vec</td>\n",
       "      <td>0.696889</td>\n",
       "      <td>0.703816</td>\n",
       "      <td>0.690285</td>\n",
       "      <td>0.668454</td>\n",
       "    </tr>\n",
       "    <tr>\n",
       "      <th>2</th>\n",
       "      <td>count_vec</td>\n",
       "      <td>0.663773</td>\n",
       "      <td>0.671517</td>\n",
       "      <td>0.669312</td>\n",
       "      <td>0.647722</td>\n",
       "    </tr>\n",
       "    <tr>\n",
       "      <th>3</th>\n",
       "      <td>ngram_count_vec</td>\n",
       "      <td>0.757184</td>\n",
       "      <td>0.762428</td>\n",
       "      <td>0.738430</td>\n",
       "      <td>0.717796</td>\n",
       "    </tr>\n",
       "  </tbody>\n",
       "</table>\n",
       "</div>"
      ],
      "text/plain": [
       "       Naive_Bayes  Accuracy  F1-score  Precision    Recall\n",
       "0        tfidf_vec  0.785550  0.786318   0.780938  0.769408\n",
       "1  ngram_tfidf_vec  0.696889  0.703816   0.690285  0.668454\n",
       "2        count_vec  0.663773  0.671517   0.669312  0.647722\n",
       "3  ngram_count_vec  0.757184  0.762428   0.738430  0.717796"
      ]
     },
     "execution_count": 9,
     "metadata": {},
     "output_type": "execute_result"
    }
   ],
   "source": [
    "df1 = pd.DataFrame(vector)\n",
    "df2 = pd.DataFrame([accuracy,f1,precision,recall])\n",
    "\n",
    "df = pd.concat([df1, df2], ignore_index=True, sort=False, axis =1)\n",
    "df.columns = ['Naive_Bayes', 'Accuracy',\"F1-score\",\"Precision\",\"Recall\"]\n",
    "df"
   ]
  },
  {
   "cell_type": "code",
   "execution_count": 10,
   "metadata": {},
   "outputs": [
    {
     "data": {
      "text/html": [
       "<div>\n",
       "<style scoped>\n",
       "    .dataframe tbody tr th:only-of-type {\n",
       "        vertical-align: middle;\n",
       "    }\n",
       "\n",
       "    .dataframe tbody tr th {\n",
       "        vertical-align: top;\n",
       "    }\n",
       "\n",
       "    .dataframe thead th {\n",
       "        text-align: right;\n",
       "    }\n",
       "</style>\n",
       "<table border=\"1\" class=\"dataframe\">\n",
       "  <thead>\n",
       "    <tr style=\"text-align: right;\">\n",
       "      <th></th>\n",
       "      <th>0</th>\n",
       "      <th>1</th>\n",
       "      <th>2</th>\n",
       "      <th>3</th>\n",
       "      <th>4</th>\n",
       "      <th>5</th>\n",
       "      <th>6</th>\n",
       "      <th>7</th>\n",
       "      <th>8</th>\n",
       "      <th>9</th>\n",
       "      <th>10</th>\n",
       "    </tr>\n",
       "  </thead>\n",
       "  <tbody>\n",
       "    <tr>\n",
       "      <th>0</th>\n",
       "      <td>0.863636</td>\n",
       "      <td>0.956522</td>\n",
       "      <td>0.771605</td>\n",
       "      <td>0.529412</td>\n",
       "      <td>0.431818</td>\n",
       "      <td>0.941176</td>\n",
       "      <td>0.640152</td>\n",
       "      <td>0.946565</td>\n",
       "      <td>0.578947</td>\n",
       "      <td>0.815385</td>\n",
       "      <td>0.853801</td>\n",
       "    </tr>\n",
       "    <tr>\n",
       "      <th>1</th>\n",
       "      <td>0.818182</td>\n",
       "      <td>1.000000</td>\n",
       "      <td>0.765432</td>\n",
       "      <td>0.558824</td>\n",
       "      <td>0.454545</td>\n",
       "      <td>0.941176</td>\n",
       "      <td>0.643939</td>\n",
       "      <td>0.938931</td>\n",
       "      <td>0.578947</td>\n",
       "      <td>0.815385</td>\n",
       "      <td>0.871345</td>\n",
       "    </tr>\n",
       "    <tr>\n",
       "      <th>2</th>\n",
       "      <td>0.795455</td>\n",
       "      <td>0.956522</td>\n",
       "      <td>0.787037</td>\n",
       "      <td>0.470588</td>\n",
       "      <td>0.409091</td>\n",
       "      <td>0.882353</td>\n",
       "      <td>0.670455</td>\n",
       "      <td>0.954198</td>\n",
       "      <td>0.578947</td>\n",
       "      <td>0.846154</td>\n",
       "      <td>0.771930</td>\n",
       "    </tr>\n",
       "    <tr>\n",
       "      <th>3</th>\n",
       "      <td>0.772727</td>\n",
       "      <td>0.956522</td>\n",
       "      <td>0.771605</td>\n",
       "      <td>0.500000</td>\n",
       "      <td>0.386364</td>\n",
       "      <td>0.901961</td>\n",
       "      <td>0.651515</td>\n",
       "      <td>0.950382</td>\n",
       "      <td>0.421053</td>\n",
       "      <td>0.800000</td>\n",
       "      <td>0.783626</td>\n",
       "    </tr>\n",
       "  </tbody>\n",
       "</table>\n",
       "</div>"
      ],
      "text/plain": [
       "         0         1         2         3         4         5         6   \\\n",
       "0  0.863636  0.956522  0.771605  0.529412  0.431818  0.941176  0.640152   \n",
       "1  0.818182  1.000000  0.765432  0.558824  0.454545  0.941176  0.643939   \n",
       "2  0.795455  0.956522  0.787037  0.470588  0.409091  0.882353  0.670455   \n",
       "3  0.772727  0.956522  0.771605  0.500000  0.386364  0.901961  0.651515   \n",
       "\n",
       "         7         8         9         10  \n",
       "0  0.946565  0.578947  0.815385  0.853801  \n",
       "1  0.938931  0.578947  0.815385  0.871345  \n",
       "2  0.954198  0.578947  0.846154  0.771930  \n",
       "3  0.950382  0.421053  0.800000  0.783626  "
      ]
     },
     "execution_count": 10,
     "metadata": {},
     "output_type": "execute_result"
    }
   ],
   "source": [
    "pd.DataFrame(recall_all)"
   ]
  },
  {
   "cell_type": "markdown",
   "metadata": {},
   "source": [
    "###### SVM-SVC #######"
   ]
  },
  {
   "cell_type": "code",
   "execution_count": 11,
   "metadata": {},
   "outputs": [
    {
     "name": "stdout",
     "output_type": "stream",
     "text": [
      "SVM-tfidf_vec 84.0891621829362\n",
      "SVM-ngram_tfidf_vec 85.62644119907763\n",
      "SVM-count_vec 84.6272098385857\n",
      "SVM-ngram_count_vec 86.01076095311299\n"
     ]
    }
   ],
   "source": [
    "V = [tfidf_vec , ngram_tfidf_vec, count_vec , ngram_count_vec]\n",
    "B = ['tfidf_vec' , 'ngram_tfidf_vec', 'count_vec' , 'ngram_count_vec']\n",
    "\n",
    "num_of_funcs = len(V)\n",
    "vector = []\n",
    "accuracy = []\n",
    "f1=[]\n",
    "recall=[]\n",
    "precision=[]\n",
    "f1_all=[]\n",
    "recall_all=[]\n",
    "precision_all=[]\n",
    "for i,j in zip(range(num_of_funcs),B):\n",
    "    xtrain_vec, xtest_vec = V[i % num_of_funcs](x_train, x_test)\n",
    "    svm = LinearSVC(class_weight='balanced', verbose=False, max_iter=10000, tol=1e-4, C=0.1)\n",
    "    model = svm.fit(xtrain_vec, y_train)\n",
    "    y_pred = model.predict(xtest_vec)\n",
    "    acc_score=accuracy_score(y_test,y_pred)\n",
    "    f1.append(f1_score(y_test,y_pred,average='macro'))\n",
    "    recall.append(recall_score(y_test,y_pred,average='macro'))\n",
    "    precision.append(precision_score(y_test,y_pred,average='macro'))\n",
    "    accuracy.append(acc_score)\n",
    "    f1_all.append(f1_score(y_test,y_pred,average=None))\n",
    "    recall_all.append(recall_score(y_test,y_pred,average=None))\n",
    "    precision_all.append(precision_score(y_test,y_pred,average=None))\n",
    "    vector.append(j)\n",
    "    print(\"SVM-\"+j,acc_score*100)"
   ]
  },
  {
   "cell_type": "code",
   "execution_count": null,
   "metadata": {},
   "outputs": [],
   "source": [
    "df1 = pd.DataFrame(vector)\n",
    "df2 = pd.DataFrame([accuracy,f1,precision,recall])\n",
    "\n",
    "df = pd.concat([df1, df2], ignore_index=True, sort=False, axis =1)\n",
    "df.columns = ['Naive_Bayes', 'Accuracy',\"F1-score\",\"Precision\",\"Recall\"]\n",
    "df"
   ]
  },
  {
   "cell_type": "code",
   "execution_count": 218,
   "metadata": {},
   "outputs": [
    {
     "data": {
      "text/html": [
       "<div>\n",
       "<style scoped>\n",
       "    .dataframe tbody tr th:only-of-type {\n",
       "        vertical-align: middle;\n",
       "    }\n",
       "\n",
       "    .dataframe tbody tr th {\n",
       "        vertical-align: top;\n",
       "    }\n",
       "\n",
       "    .dataframe thead th {\n",
       "        text-align: right;\n",
       "    }\n",
       "</style>\n",
       "<table border=\"1\" class=\"dataframe\">\n",
       "  <thead>\n",
       "    <tr style=\"text-align: right;\">\n",
       "      <th></th>\n",
       "      <th>0</th>\n",
       "      <th>1</th>\n",
       "      <th>2</th>\n",
       "      <th>3</th>\n",
       "      <th>4</th>\n",
       "      <th>5</th>\n",
       "      <th>6</th>\n",
       "      <th>7</th>\n",
       "      <th>8</th>\n",
       "      <th>9</th>\n",
       "      <th>10</th>\n",
       "    </tr>\n",
       "  </thead>\n",
       "  <tbody>\n",
       "    <tr>\n",
       "      <th>0</th>\n",
       "      <td>0.818182</td>\n",
       "      <td>0.956522</td>\n",
       "      <td>0.799383</td>\n",
       "      <td>0.529412</td>\n",
       "      <td>0.522727</td>\n",
       "      <td>0.941176</td>\n",
       "      <td>0.791667</td>\n",
       "      <td>0.961832</td>\n",
       "      <td>0.631579</td>\n",
       "      <td>0.876923</td>\n",
       "      <td>0.923977</td>\n",
       "    </tr>\n",
       "    <tr>\n",
       "      <th>1</th>\n",
       "      <td>0.818182</td>\n",
       "      <td>0.956522</td>\n",
       "      <td>0.817901</td>\n",
       "      <td>0.558824</td>\n",
       "      <td>0.545455</td>\n",
       "      <td>0.960784</td>\n",
       "      <td>0.818182</td>\n",
       "      <td>0.961832</td>\n",
       "      <td>0.578947</td>\n",
       "      <td>0.892308</td>\n",
       "      <td>0.947368</td>\n",
       "    </tr>\n",
       "    <tr>\n",
       "      <th>2</th>\n",
       "      <td>0.795455</td>\n",
       "      <td>0.869565</td>\n",
       "      <td>0.824074</td>\n",
       "      <td>0.529412</td>\n",
       "      <td>0.454545</td>\n",
       "      <td>0.901961</td>\n",
       "      <td>0.818182</td>\n",
       "      <td>0.961832</td>\n",
       "      <td>0.631579</td>\n",
       "      <td>0.830769</td>\n",
       "      <td>0.941520</td>\n",
       "    </tr>\n",
       "    <tr>\n",
       "      <th>3</th>\n",
       "      <td>0.727273</td>\n",
       "      <td>0.869565</td>\n",
       "      <td>0.851852</td>\n",
       "      <td>0.441176</td>\n",
       "      <td>0.545455</td>\n",
       "      <td>0.921569</td>\n",
       "      <td>0.863636</td>\n",
       "      <td>0.961832</td>\n",
       "      <td>0.578947</td>\n",
       "      <td>0.800000</td>\n",
       "      <td>0.947368</td>\n",
       "    </tr>\n",
       "  </tbody>\n",
       "</table>\n",
       "</div>"
      ],
      "text/plain": [
       "         0         1         2         3         4         5         6   \\\n",
       "0  0.818182  0.956522  0.799383  0.529412  0.522727  0.941176  0.791667   \n",
       "1  0.818182  0.956522  0.817901  0.558824  0.545455  0.960784  0.818182   \n",
       "2  0.795455  0.869565  0.824074  0.529412  0.454545  0.901961  0.818182   \n",
       "3  0.727273  0.869565  0.851852  0.441176  0.545455  0.921569  0.863636   \n",
       "\n",
       "         7         8         9         10  \n",
       "0  0.961832  0.631579  0.876923  0.923977  \n",
       "1  0.961832  0.578947  0.892308  0.947368  \n",
       "2  0.961832  0.631579  0.830769  0.941520  \n",
       "3  0.961832  0.578947  0.800000  0.947368  "
      ]
     },
     "execution_count": 218,
     "metadata": {},
     "output_type": "execute_result"
    }
   ],
   "source": [
    "pd.DataFrame(recall_all)"
   ]
  },
  {
   "cell_type": "code",
   "execution_count": null,
   "metadata": {},
   "outputs": [],
   "source": []
  }
 ],
 "metadata": {
  "environment": {
   "name": "tf2-2-3-gpu.2-3.m55",
   "type": "gcloud",
   "uri": "gcr.io/deeplearning-platform-release/tf2-2-3-gpu.2-3:m55"
  },
  "kernelspec": {
   "display_name": "Python 3",
   "language": "python",
   "name": "python3"
  },
  "language_info": {
   "codemirror_mode": {
    "name": "ipython",
    "version": 3
   },
   "file_extension": ".py",
   "mimetype": "text/x-python",
   "name": "python",
   "nbconvert_exporter": "python",
   "pygments_lexer": "ipython3",
   "version": "3.7.8"
  }
 },
 "nbformat": 4,
 "nbformat_minor": 4
}
